{
  "nbformat": 4,
  "nbformat_minor": 0,
  "metadata": {
    "colab": {
      "provenance": []
    },
    "kernelspec": {
      "name": "python3",
      "display_name": "Python 3"
    },
    "language_info": {
      "name": "python"
    }
  },
  "cells": [
    {
      "cell_type": "markdown",
      "source": [
        "# Laboratory exercise 4\n",
        "\n",
        "## Warm-Up Mode (2 points)\n",
        "\n",
        "**Task Description**  \n",
        "Using the given dataset, develop and implement **3** different neural networks to predict the **air quality level**. Each network should differ in the following ways:  \n",
        "\n",
        "- **layer configurations** - use different numbers and types of layers;\n",
        "- **activation functions** - try different activation functions;\n",
        "- **neurons per layer** - experiment with different numbers of neurons in each layer; and\n",
        "- **number of layers** - build networks with varying depths.\n",
        "\n",
        "After developing the models, evaluate and compare the performance of all **3** approaches.\n",
        "\n",
        "**About the Dataset**  \n",
        "This dataset focuses on air quality assessment across various regions. The dataset contains 5,000 samples and captures critical environmental and demographic factors that influence pollution levels.\n",
        "\n",
        "**Features**:  \n",
        "- **Temperature (°C)**: Average temperature of the region.  \n",
        "- **Humidity (%)**: Relative humidity recorded in the region.  \n",
        "- **PM2.5 Concentration (µg/m³)**: Levels of fine particulate matter.  \n",
        "- **PM10 Concentration (µg/m³)**: Levels of coarse particulate matter.  \n",
        "- **NO2 Concentration (ppb)**: Nitrogen dioxide levels.  \n",
        "- **SO2 Concentration (ppb)**: Sulfur dioxide levels.  \n",
        "- **CO Concentration (ppm)**: Carbon monoxide levels.  \n",
        "- **Proximity to Industrial Areas (km)**: Distance to the nearest industrial zone.  \n",
        "- **Population Density (people/km²)**: Number of people per square kilometer in the region.  \n",
        "\n",
        "**Target Variable**: **Air Quality**  \n",
        "- **Good**: Clean air with low pollution levels.  \n",
        "- **Moderate**: Acceptable air quality but with some pollutants present.  \n",
        "- **Poor**: Noticeable pollution that may cause health issues for sensitive groups.  \n",
        "- **Hazardous**: Highly polluted air posing serious health risks to the population.  "
      ],
      "metadata": {
        "id": "t7JOxuK9Jje2"
      }
    }
  ]
}