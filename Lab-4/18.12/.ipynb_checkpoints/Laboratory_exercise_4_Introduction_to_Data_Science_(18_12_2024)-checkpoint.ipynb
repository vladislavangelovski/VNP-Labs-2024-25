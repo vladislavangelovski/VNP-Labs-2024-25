{
  "cells": [
    {
      "cell_type": "markdown",
      "metadata": {
        "id": "rODb9vHvIEbp"
      },
      "source": [
        "# Requirements"
      ]
    },
    {
      "cell_type": "code",
      "execution_count": null,
      "metadata": {
        "id": "U4KmHBd2cdx9"
      },
      "outputs": [],
      "source": [
        "# Add as many imports as you need."
      ]
    },
    {
      "cell_type": "markdown",
      "metadata": {
        "id": "KNMMoUiUIW3L"
      },
      "source": [
        "# Laboratory Exercise - Run Mode (8 points)"
      ]
    },
    {
      "cell_type": "markdown",
      "metadata": {
        "id": "_rAh_91OIjeS"
      },
      "source": [
        "## Introduction\n",
        "In this laboratory assignment, the primary objective is to use Long Short-Term Memory (LSTM) networks for time series forecasting in order to predict the current **mean temperature** in the city of Delhi. To accomplish this use data from the past three days, which includes information such as the **mean temperature**, **humidity**, **wind speed**, and **mean pressure**. The goal is to employ LSTM, a type of recurrent neural network, to effectively forecast the future mean temperature based on the provided historical data.\n",
        "\n",
        "**Note: You are required to perform this laboratory assignment on your local machine.**"
      ]
    },
    {
      "cell_type": "markdown",
      "metadata": {
        "id": "zBYI-EypaWom"
      },
      "source": [
        "## The Climate Dataset"
      ]
    },
    {
      "cell_type": "markdown",
      "metadata": {
        "id": "IDW_23TIK6iv"
      },
      "source": [
        "## Downloading the Climate Dataset"
      ]
    },
    {
      "cell_type": "markdown",
      "metadata": {
        "id": "iAtPoYzAZo1v"
      },
      "source": [
        "## Exploring the Climate Dataset\n",
        "This dataset consists of daily weather records for the city of Delhi spanning a period of 4 years (from 2013 to 2017). The dataset includes the following attributes:\n",
        "\n",
        "- date - date in the format YYYY-MM-DD,\n",
        "- meantemp - mean temperature averaged from multiple 3-hour intervals in a day,\n",
        "- humidity - humidity value for the day (measured in grams of water vapor per cubic meter volume of air),\n",
        "- wind_speed - wind speed measured in kilometers per hour, and\n",
        "- meanpressure - pressure reading of the weather (measured in atm).\n",
        "\n",
        "*Note: The dataset is complete, with no missing values in any of its entries.*"
      ]
    },
    {
      "cell_type": "markdown",
      "metadata": {
        "id": "DCm1qm1mZwMr"
      },
      "source": [
        "Load the dataset into a `pandas` data frame."
      ]
    },
    {
      "cell_type": "code",
      "execution_count": null,
      "metadata": {
        "id": "KMOn4fgcZn8s"
      },
      "outputs": [],
      "source": [
        "# Write your code here. Add as many boxes as you need."
      ]
    },
    {
      "cell_type": "markdown",
      "metadata": {
        "id": "5slwyyhCKRo9"
      },
      "source": [
        "Explore the dataset using visualizations of your choice."
      ]
    },
    {
      "cell_type": "code",
      "execution_count": null,
      "metadata": {
        "id": "DFY6TKhGKOY4"
      },
      "outputs": [],
      "source": [
        "# Write your code here. Add as many boxes as you need."
      ]
    },
    {
      "cell_type": "markdown",
      "metadata": {
        "id": "hZceBEFuiGpI"
      },
      "source": [
        "## Feauture Extraction\n",
        "Apply a lag of one, two, and three days to each feature, creating a set of features representing the meteorological conditions from the previous three days. To maintain dataset integrity, eliminate any resulting missing values at the beginning of the dataset.\n",
        "\n",
        "*Be careful when extracting the features. For each day, ensure that features are obtained sequentially, starting with those from 3 days ago, followed by features from 2 days ago, and finally, features from 1 day ago. This becomes crucial when reshaping the train and test sets later on.*\n",
        "\n",
        "Hint: Use `df['column_name'].shift(period)`. Check the documentation at https://pandas.pydata.org/docs/reference/api/pandas.DataFrame.shift.html."
      ]
    },
    {
      "cell_type": "code",
      "execution_count": null,
      "metadata": {
        "id": "S-xymWvjTFt-"
      },
      "outputs": [],
      "source": [
        "# Write your code here. Add as many boxes as you need."
      ]
    },
    {
      "cell_type": "markdown",
      "metadata": {
        "id": "tls69_PrbJKW"
      },
      "source": [
        "## Dataset Splitting\n",
        "Partition the dataset into training and testing sets with an 90:10 ratio.\n",
        "\n",
        "**WARNING: DO NOT SHUFFLE THE DATASET.**\n",
        "\n"
      ]
    },
    {
      "cell_type": "code",
      "execution_count": null,
      "metadata": {
        "id": "PjGGGMxebeoB"
      },
      "outputs": [],
      "source": [
        "# Write your code here. Add as many boxes as you need."
      ]
    },
    {
      "cell_type": "markdown",
      "metadata": {
        "id": "lwhDHS-nRRhW"
      },
      "source": [
        "## Feauture Scaling\n",
        "Scale the extracted features using an appropriate scaler."
      ]
    },
    {
      "cell_type": "code",
      "execution_count": null,
      "metadata": {
        "id": "xlvbs68wRaVj"
      },
      "outputs": [],
      "source": [
        "# Write your code here. Add as many boxes as you need."
      ]
    },
    {
      "cell_type": "markdown",
      "metadata": {
        "id": "xI53ZRmfW8WG"
      },
      "source": [
        "## Feature Reshaping"
      ]
    },
    {
      "cell_type": "markdown",
      "metadata": {
        "id": "sK9naW8AXVaU"
      },
      "source": [
        "Reshape the feature dimensions into the shape `(samples, timesteps, features)`."
      ]
    },
    {
      "cell_type": "code",
      "execution_count": null,
      "metadata": {
        "id": "3D-1-V9bW8tl"
      },
      "outputs": [],
      "source": [
        "# Write your code here. Add as many boxes as you need."
      ]
    },
    {
      "cell_type": "markdown",
      "metadata": {
        "id": "VIkAR1Hibiwr"
      },
      "source": [
        "## Long Short-Term Memory (LSTM) Network\n",
        "Build a Long Short-Term Memory (LSTM) Network for forecasting the current **mean temperature** based on the extracted features from the previous three days."
      ]
    },
    {
      "cell_type": "markdown",
      "metadata": {
        "id": "qWn1pafKbnxH"
      },
      "source": [
        "Define the forecasting model using the **Keras Sequential API** (`keras.models.Sequential`), incorporating one or more LSTM layers along with additional relevant layers (`keras.layers`). Be cautious when specifying the configuration of the final layer to ensure proper model output for the forecasting task."
      ]
    },
    {
      "cell_type": "code",
      "execution_count": null,
      "metadata": {
        "id": "IXFIrQthbnkb"
      },
      "outputs": [],
      "source": [
        "# Write your code here. Add as many boxes as you need."
      ]
    },
    {
      "cell_type": "markdown",
      "metadata": {
        "id": "tAM-g59xSO4V"
      },
      "source": [
        "Compile the previously defined model specifying **loss function** (`keras.losses`), **optimizer** (`keras.optimizers`) and **evaluation metrics** (`keras.metics`)."
      ]
    },
    {
      "cell_type": "code",
      "execution_count": null,
      "metadata": {
        "id": "ZBtCCy9VSQpF"
      },
      "outputs": [],
      "source": [
        "# Write your code here. Add as many boxes as you need."
      ]
    },
    {
      "cell_type": "markdown",
      "metadata": {
        "id": "lygUzi0QTXgZ"
      },
      "source": [
        "Train the model on the training set, specifying the **batch size** and **number of epochs** for the training process. Allocate 20% of the samples for **validation**, and ensure that the dataset remains **unshuffled** during training."
      ]
    },
    {
      "cell_type": "code",
      "execution_count": null,
      "metadata": {
        "id": "Fkj3k5p8TXEF"
      },
      "outputs": [],
      "source": [
        "# Write your code here. Add as many boxes as you need."
      ]
    },
    {
      "cell_type": "markdown",
      "metadata": {
        "id": "BgK9j0GrUs2l"
      },
      "source": [
        "Create a line plot illustrating both the **training** and **validation loss** over the training epochs."
      ]
    },
    {
      "cell_type": "code",
      "execution_count": null,
      "metadata": {
        "id": "2u1RylwfUtR0"
      },
      "outputs": [],
      "source": [
        "# Write your code here. Add as many boxes as you need."
      ]
    },
    {
      "cell_type": "markdown",
      "metadata": {
        "id": "gyXZwAVab8Cp"
      },
      "source": [
        "Use the trained model to make predictions for the test set."
      ]
    },
    {
      "cell_type": "code",
      "execution_count": null,
      "metadata": {
        "id": "EvMfVum6b_9b"
      },
      "outputs": [],
      "source": [
        "# Write your code here. Add as many boxes as you need."
      ]
    },
    {
      "cell_type": "markdown",
      "metadata": {
        "id": "3VxAvDPtcNCh"
      },
      "source": [
        "Assess the performance of the model by using different metrics provided by the `scikit-learn` library."
      ]
    },
    {
      "cell_type": "code",
      "execution_count": null,
      "metadata": {
        "id": "V4axpktycQhp"
      },
      "outputs": [],
      "source": [
        "# Write your code here. Add as many boxes as you need."
      ]
    },
    {
      "cell_type": "markdown",
      "metadata": {
        "id": "X01Q7Pb9VOAI"
      },
      "source": [
        "Create a line plot in order to compare the actual and predicted mean temperatures for the test set."
      ]
    },
    {
      "cell_type": "code",
      "execution_count": null,
      "metadata": {
        "id": "oeS852CkVPVJ"
      },
      "outputs": [],
      "source": [
        "# Write your code here. Add as many boxes as you need."
      ]
    },
    {
      "cell_type": "markdown",
      "metadata": {
        "id": "RwnD_qSpIeXG"
      },
      "source": [
        "# Laboratory Exercise - Bonus Task (+ 2 points)"
      ]
    },
    {
      "cell_type": "markdown",
      "metadata": {
        "id": "pxXNxarDmE_L"
      },
      "source": [
        "As a bonus task for this laboratory exercise, calculate the Simple Moving Average (SMA) and Weighted Moving Average (WMA) with 3 timesteps for `mean_temperature` over the past 1, 2, and 3 days:\n",
        "\n",
        "- **SMA with 3 timesteps ($\\text{SMA}_3$)** - the average of temperatures from the previous 3 days:  \n",
        "  $SMA_3 = \\frac{\\text{mean\\_temperaure}_{lag\\_3} +\\ \\text{mean\\_temperaure}_{lag\\_2} +\\ \\text{mean\\_temperaure}_{lag\\_1}}{1\\ +\\ 1\\ +\\ 1}$.\n",
        "\n",
        "- **WMA with 3 timesteps ($\\text{WMA}_3$)** - a weighted average, giving more importance to recent days:  \n",
        "  $WMA_3 = \\frac{1\\ \\cdot\\ \\text{mean\\_temperaure}_{lag\\_3} +\\ 2\\ \\cdot\\ \\text{mean\\_temperaure}_{lag\\_2} +\\ 3\\ \\cdot\\ \\text{mean\\_temperaure}_{lag_1}}{1\\ +\\ 2\\ +\\ 3}$.\n",
        "\n",
        "Then use this indicators alongside the other features in the dataset to predict the `mean_temperaure`.\n",
        "\n",
        "*Hint: Use the `rolling` method from `pandas`. Check the docs at the following link https://pandas.pydata.org/docs/reference/api/pandas.DataFrame.rolling.html.*"
      ]
    },
    {
      "cell_type": "code",
      "execution_count": null,
      "metadata": {
        "id": "NuW3jAXcl3Bq"
      },
      "outputs": [],
      "source": [
        "# Write your code here. Add as many boxes as you need."
      ]
    }
  ],
  "metadata": {
    "accelerator": "GPU",
    "colab": {
      "gpuType": "T4",
      "provenance": []
    },
    "kernelspec": {
      "display_name": "Python 3",
      "name": "python3"
    },
    "language_info": {
      "name": "python"
    }
  },
  "nbformat": 4,
  "nbformat_minor": 0
}
